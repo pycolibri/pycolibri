{
  "cells": [
    {
      "cell_type": "markdown",
      "metadata": {},
      "source": [
        "\n# Demo Modulo.\n"
      ]
    },
    {
      "cell_type": "markdown",
      "metadata": {},
      "source": [
        "## Select Working Directory and Device\n\n"
      ]
    },
    {
      "cell_type": "code",
      "execution_count": null,
      "metadata": {
        "collapsed": false
      },
      "outputs": [],
      "source": [
        "import os \nos.chdir(os.path.dirname(os.getcwd()))\nprint(\"Current Working Directory \" , os.getcwd())\n\nimport sys\nsys.path.append(os.path.join(os.getcwd()))\n\n\n#General imports\nimport torch\n\n# Set random seed for reproducibility\ntorch.manual_seed(0)\n\nmanual_device = \"cpu\"\n# Check GPU support\nprint(\"GPU support: \", torch.cuda.is_available())\n\nif manual_device:\n    device = manual_device\nelse:\n    device = torch.device(\"cuda:0\" if torch.cuda.is_available() else \"cpu\")"
      ]
    },
    {
      "cell_type": "markdown",
      "metadata": {},
      "source": [
        "## Load libraries and data\n\n"
      ]
    },
    {
      "cell_type": "code",
      "execution_count": null,
      "metadata": {
        "collapsed": false
      },
      "outputs": [],
      "source": [
        "from PIL import Image\nimport requests\nfrom io import BytesIO\n\nimport matplotlib.pyplot as plt\nimport numpy as np\n\nfrom colibri.optics import Modulo\nfrom colibri.recovery.solvers import L2L2SolverModulo\nimport torchvision.transforms as transforms\n\nnp2tensor = lambda x: torch.tensor(x).permute(2, 0, 1).unsqueeze(0).float()\n\ndef channel_norm(x):\n    \"\"\" Normalize the input tensor to have values between 0 and 1\n    Args:\n        x (torch.Tensor): Input tensor with shape (B, C, H, W)\n    \"\"\"\n    x -= x.min(dim=2, keepdim=True)[0].min(dim=3, keepdim=True)[0]\n    x /= x.max(dim=2, keepdim=True)[0].max(dim=3, keepdim=True)[0]\n    return x\n\n\nurl = \"https://optipng.sourceforge.net/pngtech/corpus/kodak/kodim23.png\"\nresponse = requests.get(url)\nimg = Image.open(BytesIO(response.content))\nimg = np.array(img) / (255 + 1e-3)\nimg = np2tensor(img)\n# Guarantee that the image has values between 0 and 1 by channel\nimg = channel_norm(img)\n\nimg_size = 512\nsaturation_factor = 1.5\nblur_fn = transforms.GaussianBlur(7, sigma=(1, 1))\n\nimg = torch.nn.functional.interpolate(img, size=img_size) * saturation_factor\n# apply blur\nimg = blur_fn(img)\n\n\nmodulo_sensing = Modulo()\nmod_img = modulo_sensing(img)"
      ]
    },
    {
      "cell_type": "markdown",
      "metadata": {},
      "source": [
        "## Setup and run reconstruction\n\n"
      ]
    },
    {
      "cell_type": "code",
      "execution_count": null,
      "metadata": {
        "collapsed": false
      },
      "outputs": [],
      "source": [
        "recons_fn = L2L2SolverModulo(img, modulo_sensing)\nxtilde    = None # initial guess\nrho       = 0.0  # regularization parameter\n\nrecons_img  = recons_fn.solve(xtilde, rho)\n# Since the DCT solver returns a tensor with 0 mean\n# we need to normalize the image to have values between 0 and 1\nrecons_img  = channel_norm(recons_img)\n\n\nfig, ax = plt.subplots(1, 3, figsize=(10, 10))\n\n\nax[0].imshow(img[0].permute(1, 2, 0) / saturation_factor)\nax[0].set_title(\"Original Image\")\nax[0].axis(\"off\")\n\nax[1].imshow(mod_img[0].permute(1, 2, 0))\nax[1].set_title(\"Modulo Image\")\nax[1].axis(\"off\")\n\nax[2].imshow(recons_img[0].permute(1, 2, 0))\nax[2].set_title(\"Reconstructed Image\")\nax[2].axis(\"off\")\n\nplt.show()"
      ]
    }
  ],
  "metadata": {
    "kernelspec": {
      "display_name": "Python 3",
      "language": "python",
      "name": "python3"
    },
    "language_info": {
      "codemirror_mode": {
        "name": "ipython",
        "version": 3
      },
      "file_extension": ".py",
      "mimetype": "text/x-python",
      "name": "python",
      "nbconvert_exporter": "python",
      "pygments_lexer": "ipython3",
      "version": "3.9.22"
    }
  },
  "nbformat": 4,
  "nbformat_minor": 0
}