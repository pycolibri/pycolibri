{
  "cells": [
    {
      "cell_type": "markdown",
      "metadata": {},
      "source": [
        "\n# Demo PnP.\n"
      ]
    },
    {
      "cell_type": "markdown",
      "metadata": {},
      "source": [
        "## Select Working Directory and Device\n\n"
      ]
    },
    {
      "cell_type": "code",
      "execution_count": null,
      "metadata": {
        "collapsed": false
      },
      "outputs": [],
      "source": [
        "import os \nos.chdir(os.path.dirname(os.getcwd()))\nprint(\"Current Working Directory \" , os.getcwd())\n\nimport sys\nsys.path.append(os.path.join(os.getcwd()))\n\n#General imports\nimport matplotlib.pyplot as plt\nimport torch\nimport os\n\n# Set random seed for reproducibility\ntorch.manual_seed(0)\n\nmanual_device = \"cpu\"\n# Check GPU support\nprint(\"GPU support: \", torch.cuda.is_available())\n\nif manual_device:\n    device = manual_device\nelse:\n    device = torch.device(\"cuda:0\" if torch.cuda.is_available() else \"cpu\")"
      ]
    },
    {
      "cell_type": "markdown",
      "metadata": {},
      "source": [
        "## Load dataset\n\n"
      ]
    },
    {
      "cell_type": "code",
      "execution_count": null,
      "metadata": {
        "collapsed": false
      },
      "outputs": [],
      "source": [
        "from colibri.data.datasets import CustomDataset\n\nname = 'cifar10'\npath = '.'\nbatch_size = 1\n\n\ndataset = CustomDataset(name, path)\n\nacquisition_name = 'spc' #  ['spc', 'cassi']"
      ]
    },
    {
      "cell_type": "markdown",
      "metadata": {},
      "source": [
        "## Visualize dataset\n\n"
      ]
    },
    {
      "cell_type": "code",
      "execution_count": null,
      "metadata": {
        "collapsed": false
      },
      "outputs": [],
      "source": [
        "from torchvision.utils import make_grid\nfrom colibri.recovery.terms.transforms import DCT2D\n\ndef normalize(image):\n    return (image - image.min()) / (image.max() - image.min())\n\nsample = dataset[0]['input']\nsample = sample.unsqueeze(0).to(device)"
      ]
    },
    {
      "cell_type": "markdown",
      "metadata": {},
      "source": [
        "Optics forward model\n\n"
      ]
    },
    {
      "cell_type": "code",
      "execution_count": null,
      "metadata": {
        "collapsed": false
      },
      "outputs": [],
      "source": [
        "import math\nfrom colibri.optics import SPC, SD_CASSI, DD_CASSI, C_CASSI\n\nimg_size = sample.shape[1:]\n\nacquisition_config = dict(\n    input_shape = img_size,\n)\n\nif acquisition_name == 'spc':\n    n_measurements  = 25**2 \n    n_measurements_sqrt = int(math.sqrt(n_measurements))    \n    acquisition_config['n_measurements'] = n_measurements\n\nacquisition_model = {\n    'spc': SPC,\n    'sd_cassi': SD_CASSI,\n    'dd_cassi': DD_CASSI,\n    'c_cassi': C_CASSI\n}[acquisition_name]\n\nacquisition_model = acquisition_model(**acquisition_config)\n\ny = acquisition_model(sample)\n\n# Reconstruct image\nfrom colibri.recovery.pnp import PnP_ADMM\nfrom colibri.recovery.terms.prior import Sparsity\nfrom colibri.recovery.terms.fidelity import L2\nfrom colibri.recovery.terms.transforms import DCT2D\n\nalgo_params = {\n    'max_iters': 200,\n    '_lambda': 0.05,\n    'rho': 0.1,\n    'alpha': 1e-4,\n}\n\n\n\nfidelity  = L2()\nprior     = Sparsity(basis='dct')\n\npnp = PnP_ADMM(acquisition_model, fidelity, prior, **algo_params)\n\nx0 = acquisition_model.forward(y, type_calculation=\"backward\")\nx_hat = pnp(y, x0=x0,  verbose=True) \n\nbasis = DCT2D()\ntheta = basis.forward(x_hat).detach()\n\nprint(x_hat.shape)\n\nplt.figure(figsize=(10,10))\n\nplt.subplot(1,4,1)\nplt.title('Reference')\nplt.imshow(normalize(sample[0,:,:].permute(1, 2, 0)), cmap='gray')\nplt.xticks([])\nplt.yticks([])\n\nplt.subplot(1,4,2)\nplt.title('Sparse Representation')\nplt.imshow(normalize(abs(theta[0,:,:]).permute(1, 2, 0)), cmap='gray')\nplt.xticks([])\nplt.yticks([])\n\n\nif acquisition_name == 'spc':\n    y = y.reshape(y.shape[0], -1, n_measurements_sqrt, n_measurements_sqrt)\n\n\nplt.subplot(1,4,3)\nplt.title('Measurement')\nplt.imshow(normalize(y[0,:,:].permute(1, 2, 0)), cmap='gray')\nplt.xticks([])\nplt.yticks([])\n\nplt.subplot(1,4,4)\nplt.title('Reconstruction')\nx_hat -= x_hat.min()\nx_hat /= x_hat.max()\nplt.imshow(normalize(x_hat[0,:,:].permute(1, 2, 0).detach().cpu().numpy()), cmap='gray')\nplt.xticks([])\nplt.yticks([])"
      ]
    }
  ],
  "metadata": {
    "kernelspec": {
      "display_name": "Python 3",
      "language": "python",
      "name": "python3"
    },
    "language_info": {
      "codemirror_mode": {
        "name": "ipython",
        "version": 3
      },
      "file_extension": ".py",
      "mimetype": "text/x-python",
      "name": "python",
      "nbconvert_exporter": "python",
      "pygments_lexer": "ipython3",
      "version": "3.9.22"
    }
  },
  "nbformat": 4,
  "nbformat_minor": 0
}