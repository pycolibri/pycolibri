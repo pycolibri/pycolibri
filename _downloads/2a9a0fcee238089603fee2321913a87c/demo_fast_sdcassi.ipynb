{
  "cells": [
    {
      "cell_type": "markdown",
      "metadata": {},
      "source": [
        "\n# Demo Fast SD CASSI.\n"
      ]
    },
    {
      "cell_type": "markdown",
      "metadata": {},
      "source": [
        "## Select Working Directory and Device\n\n"
      ]
    },
    {
      "cell_type": "code",
      "execution_count": null,
      "metadata": {
        "collapsed": false
      },
      "outputs": [],
      "source": [
        "import os\nos.chdir(os.path.dirname(os.getcwd()))\nprint(\"Current Working Directory \" , os.getcwd())\n\nimport sys\nsys.path.append(os.path.join(os.getcwd()))\n\n\nimport numpy as np\nfrom matplotlib import pyplot as plt\nfrom skimage.transform import resize\n\nfrom colibri.data.datasets import CustomDataset\nfrom colibri.optics import SD_CASSI\nfrom colibri.recovery.solvers.sd_cassi import L2L2SolverSDCASSI\n\n\n#General imports\nimport torch\n\n# Set random seed for reproducibility\ntorch.manual_seed(0)\n\nmanual_device = \"cpu\"\n# Check GPU support\nprint(\"GPU support: \", torch.cuda.is_available())\n\nif manual_device:\n    device = manual_device\nelse:\n    device = torch.device(\"cuda:0\" if torch.cuda.is_available() else \"cpu\")"
      ]
    },
    {
      "cell_type": "markdown",
      "metadata": {},
      "source": [
        "## Parameters\n\n"
      ]
    },
    {
      "cell_type": "code",
      "execution_count": null,
      "metadata": {
        "collapsed": false
      },
      "outputs": [],
      "source": [
        "M = 256\nN = M\nL = 3\nsample_index = 1"
      ]
    },
    {
      "cell_type": "markdown",
      "metadata": {},
      "source": [
        "## Data\n\n"
      ]
    },
    {
      "cell_type": "code",
      "execution_count": null,
      "metadata": {
        "collapsed": false
      },
      "outputs": [],
      "source": [
        "dataset = CustomDataset('cave', path='data')\nsample = dataset[sample_index]\nx = sample['output'].numpy()\nx = x[::-1, ...]\nx = torch.from_numpy(resize(x[::int(x.shape[0] / L) + 1], [L, M, N]))[None, ...].float()\n\nx = x / x.max()  # Normalize the image to [0, 1]\n\nprint(x.shape)"
      ]
    },
    {
      "cell_type": "markdown",
      "metadata": {},
      "source": [
        "## Tenssor CASSI\n\n"
      ]
    },
    {
      "cell_type": "code",
      "execution_count": null,
      "metadata": {
        "collapsed": false
      },
      "outputs": [],
      "source": [
        "sd_cassi = SD_CASSI((L, M, N))\ny = sd_cassi(x)\n\nca = sd_cassi.learnable_optics[0]"
      ]
    },
    {
      "cell_type": "markdown",
      "metadata": {},
      "source": [
        "## Setup and run reconstruction\n\n"
      ]
    },
    {
      "cell_type": "code",
      "execution_count": null,
      "metadata": {
        "collapsed": false
      },
      "outputs": [],
      "source": [
        "recons_fn = L2L2SolverSDCASSI(y, sd_cassi)\nxtilde    = torch.zeros_like(x, device=x.device) # initial guess\nrho       = 1e-4  # regularization parameter\n\n# solution with the solver\nrecons_img  = recons_fn.solve(xtilde, rho)\n\n# solution with the manual inversion\n[Qinv, rhoIQ] = recons_fn.ComputeQinv(rho)\nrecons_img2 = recons_fn.IMVMS(sd_cassi(y, type_calculation=\"backward\"), Q=Qinv)\n\nerror = torch.norm(recons_img - recons_img2)  # compute the error\n\nfig, ax = plt.subplots(2, 2, figsize=(6, 6))\nplt.suptitle(f'Inversion error norm2(recon_img1 - recon_img2): {error:.4e}', fontsize=12)\n\nax[0, 0].imshow(x[0].permute(1, 2, 0) / x.max() )\nax[0, 0].set_title(\"Original Image\")\nax[0, 0].axis(\"off\")\n\nax[0, 1].imshow(y[0].permute(1, 2, 0))\nax[0, 1].set_title(\"Measurement\")\nax[0, 1].axis(\"off\")\n\nax[1, 0].imshow(recons_img[0].permute(1, 2, 0) / recons_img.max() )\nax[1, 0].set_title(\"Reconstructed Image 1\")\nax[1, 0].axis(\"off\")\n\nax[1, 1].imshow(recons_img2[0].permute(1, 2, 0) / recons_img2.max() )\nax[1, 1].set_title(\"Reconstructed Image 2\")\nax[1, 1].axis(\"off\")\n\nplt.tight_layout()\nplt.show()\n\nfrom colibri.recovery.terms.fidelity import L2\nfrom colibri.recovery.terms.prior import Sparsity\nfrom colibri.recovery.pnp import PnP_ADMM\n\n\nfidelity = L2()\nprior = Sparsity(basis=\"dct\")\n\nalgo_params = {\n    'max_iters': 10,\n    '_lambda': 0.1,\n    'rho': 0.01,\n    'alpha': 1e-4,\n}\n\npnp = PnP_ADMM(sd_cassi, fidelity, prior, **algo_params)\n\nx0 = recons_img\nx_hat = pnp(y, x0=x0,  verbose=False).detach()\n\n\nfig, ax = plt.subplots(1, 4, figsize=(20, 5))\n\nplt.subplot(1, 4, 1)\nplt.title(\"Measurement\")\nplt.imshow(y[0].permute(1, 2, 0))\nplt.axis(\"off\")\n\nplt.subplot(1, 4, 2)\nplt.title(\"Fast Inversion\")\nplt.imshow(recons_img[0].permute(1, 2, 0) / recons_img.max())\nplt.axis(\"off\")\n\nplt.subplot(1, 4, 3)\nplt.title(\"PnP ADMM\")\nplt.imshow(x_hat[0].permute(1, 2, 0) / x_hat.max())\nplt.axis(\"off\")\n\nplt.subplot(1, 4, 4)\nplt.title(\"Reference\")\nplt.imshow(x[0].permute(1, 2, 0) / x.max())\nplt.axis(\"off\")\n\nplt.show()"
      ]
    }
  ],
  "metadata": {
    "kernelspec": {
      "display_name": "Python 3",
      "language": "python",
      "name": "python3"
    },
    "language_info": {
      "codemirror_mode": {
        "name": "ipython",
        "version": 3
      },
      "file_extension": ".py",
      "mimetype": "text/x-python",
      "name": "python",
      "nbconvert_exporter": "python",
      "pygments_lexer": "ipython3",
      "version": "3.9.22"
    }
  },
  "nbformat": 4,
  "nbformat_minor": 0
}