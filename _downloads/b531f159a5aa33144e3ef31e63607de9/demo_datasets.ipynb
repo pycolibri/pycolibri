{
  "cells": [
    {
      "cell_type": "markdown",
      "metadata": {},
      "source": [
        "\n# Demo Datasets.\n\nIn this example we show how to use the custom dataset class to load the predefined datasets in the repository.\n"
      ]
    },
    {
      "cell_type": "markdown",
      "metadata": {},
      "source": [
        "## Select Working Directory and Device\n\n"
      ]
    },
    {
      "cell_type": "code",
      "execution_count": null,
      "metadata": {
        "collapsed": false
      },
      "outputs": [],
      "source": [
        "import os\nfrom random import randint\n\nfrom torch.utils.data import DataLoader\n\nos.chdir(os.path.dirname(os.getcwd()))\nprint(\"Current Working Directory \", os.getcwd())"
      ]
    },
    {
      "cell_type": "markdown",
      "metadata": {},
      "source": [
        "## Load builtin dataset\n\n"
      ]
    },
    {
      "cell_type": "code",
      "execution_count": null,
      "metadata": {
        "collapsed": false
      },
      "outputs": [],
      "source": [
        "from colibri.data.datasets import CustomDataset\n\n\nname = 'fashion_mnist'  # ['cifar10', 'cifar100', 'mnist', 'fashion_mnist', 'cave']\npath = 'data'\nbatch_size = 128\nbuiltin_train = True\nbuiltin_download = True\n\ndataset = CustomDataset(name, path, builtin_train, builtin_download)\ndataset_loader = DataLoader(dataset, batch_size=batch_size, shuffle=False, num_workers=0)"
      ]
    },
    {
      "cell_type": "markdown",
      "metadata": {},
      "source": [
        "## Visualize cifar10 dataset\n\n"
      ]
    },
    {
      "cell_type": "code",
      "execution_count": null,
      "metadata": {
        "collapsed": false
      },
      "outputs": [],
      "source": [
        "import matplotlib.pyplot as plt\n\ndata = next(iter(dataset_loader))\nimage = data['input']\nlabel = data['output']\n\nplt.figure(figsize=(5, 5))\nplt.suptitle(f'{name.upper()} dataset Samples - range: [{image.min()}, {image.max()}]')\n\nfor i in range(9):\n    plt.subplot(3, 3, i + 1)\n    plt.imshow(image[i].permute(2, 1, 0).cpu().numpy())\n    plt.title(f'Label: {label[i]}')\n    plt.axis('off')\n\nplt.tight_layout()\nplt.show()"
      ]
    },
    {
      "cell_type": "markdown",
      "metadata": {},
      "source": [
        "## Cave dataset\nCAVE is a database of multispectral images that were used to emulate the GAP camera.\nThe images are of a wide variety of real-world materials and objects.\nYou can download the dataset from the following link: http://www.cs.columbia.edu/CAVE/databases/multispectral/\nOnce downloaded, you must extract the files and place them in the 'data' folder.\n\n"
      ]
    },
    {
      "cell_type": "code",
      "execution_count": null,
      "metadata": {
        "collapsed": false
      },
      "outputs": [],
      "source": [
        "import requests\nimport zipfile\nimport os\n\ndataset = CustomDataset(\"cave\", path)\n\ndataset_loader = DataLoader(dataset, batch_size=batch_size, shuffle=False, num_workers=0)"
      ]
    },
    {
      "cell_type": "markdown",
      "metadata": {},
      "source": [
        "## Visualize cave dataset\n\n"
      ]
    },
    {
      "cell_type": "code",
      "execution_count": null,
      "metadata": {
        "collapsed": false
      },
      "outputs": [],
      "source": [
        "def normalize(image):\n    return (image - image.min()) / (image.max() - image.min())\n\ndata = next(iter(dataset_loader))\nrgb_image = data['input']\nspec_image = data['output']\n\n[_, _, M, N] = spec_image.shape\n\nplt.figure(figsize=(8, 8))\nplt.suptitle(f'CAVE dataset Samples - spectral range: [{spec_image.min():.2f}, {spec_image.max():.2f}] - '\n             f'RGB range: [{rgb_image.min():.2f}, {rgb_image.max():.2f}]')\n\nfor i in range(3):\n    coord1 = [randint(0, M-1), randint(0, N-1)]\n    coord2 = [randint(0, M-1), randint(0, N-1)]\n\n    plt.subplot(3, 3, (3 * i) + 1)\n    plt.imshow(normalize(rgb_image[i].permute(1, 2, 0).cpu().numpy()))\n    plt.title('rgb')\n    plt.axis('off')\n\n    plt.subplot(3, 3, (3 * i) + 2)\n    plt.imshow(normalize(spec_image[i, [18, 12, 8]].permute(1, 2, 0).cpu().numpy()))\n    plt.scatter(coord1[1], coord1[0], s=120, edgecolors='black')\n    plt.scatter(coord2[1], coord2[0], s=120, edgecolors='black')\n    plt.title('spec bands [18, 12, 8]')\n    plt.axis('off')\n\n    plt.subplot(3, 3, (3 * i) + 3)\n    plt.plot(normalize(spec_image[i, :, coord1[0], coord1[1]].cpu().numpy()), linewidth=2, label='p1')\n    plt.plot(normalize(spec_image[i, :, coord2[0], coord1[1]].cpu().numpy()), linewidth=2, label='p2')\n    plt.title('spec signatures')\n    plt.xlabel('Wavelength [nm]')\n    plt.grid()\n    plt.legend()\n\nplt.tight_layout()\nplt.show()"
      ]
    }
  ],
  "metadata": {
    "kernelspec": {
      "display_name": "Python 3",
      "language": "python",
      "name": "python3"
    },
    "language_info": {
      "codemirror_mode": {
        "name": "ipython",
        "version": 3
      },
      "file_extension": ".py",
      "mimetype": "text/x-python",
      "name": "python",
      "nbconvert_exporter": "python",
      "pygments_lexer": "ipython3",
      "version": "3.9.22"
    }
  },
  "nbformat": 4,
  "nbformat_minor": 0
}