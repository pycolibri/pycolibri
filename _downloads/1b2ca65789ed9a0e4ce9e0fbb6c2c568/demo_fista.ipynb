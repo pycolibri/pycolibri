{
  "cells": [
    {
      "cell_type": "markdown",
      "metadata": {},
      "source": [
        "\n# Demo FISTA.\n"
      ]
    },
    {
      "cell_type": "markdown",
      "metadata": {},
      "source": [
        "## Select Working Directory and Device\n\n"
      ]
    },
    {
      "cell_type": "code",
      "execution_count": null,
      "metadata": {
        "collapsed": false
      },
      "outputs": [],
      "source": [
        "import os\n\nfrom torch.utils import data\n\nos.chdir(os.path.dirname(os.getcwd()))\nprint(\"Current Working Directory \", os.getcwd())\n\nimport sys\n\nsys.path.append(os.path.join(os.getcwd()))\n\n# General imports\nimport matplotlib.pyplot as plt\nimport torch\nimport os\n\n# Set random seed for reproducibility\ntorch.manual_seed(0)\n\nmanual_device = \"cpu\"\n# Check GPU support\nprint(\"GPU support: \", torch.cuda.is_available())\n\nif manual_device:\n    device = manual_device\nelse:\n    device = torch.device(\"cuda:0\" if torch.cuda.is_available() else \"cpu\")"
      ]
    },
    {
      "cell_type": "markdown",
      "metadata": {},
      "source": [
        "## Load dataset\n\n"
      ]
    },
    {
      "cell_type": "code",
      "execution_count": null,
      "metadata": {
        "collapsed": false
      },
      "outputs": [],
      "source": [
        "from colibri.data.datasets import CustomDataset\n\nname = \"cifar10\"\npath = \".\"\nbatch_size = 1\n\n\ndataset = CustomDataset(name, path)\n\n\nacquisition_name = 'spc'  # ['spc', 'cassi']"
      ]
    },
    {
      "cell_type": "markdown",
      "metadata": {},
      "source": [
        "## Visualize dataset\n\n"
      ]
    },
    {
      "cell_type": "code",
      "execution_count": null,
      "metadata": {
        "collapsed": false
      },
      "outputs": [],
      "source": [
        "from torchvision.utils import make_grid\n\nsample = dataset[0][\"input\"]\nsample = sample.unsqueeze(0).to(device)"
      ]
    },
    {
      "cell_type": "markdown",
      "metadata": {},
      "source": [
        "Optics forward model\n\n"
      ]
    },
    {
      "cell_type": "code",
      "execution_count": null,
      "metadata": {
        "collapsed": false
      },
      "outputs": [],
      "source": [
        "import math\nfrom colibri.optics import SPC, SD_CASSI, DD_CASSI, C_CASSI\n\n\nimg_size = sample.shape[1:]\n\nacquisition_config = dict(\n    input_shape=img_size,\n)\n\nif acquisition_name == \"spc\":\n    n_measurements = 25**2\n    n_measurements_sqrt = int(math.sqrt(n_measurements))\n    acquisition_config[\"n_measurements\"] = n_measurements\n\nacquisition_model = {\"spc\": SPC, \"sd_cassi\": SD_CASSI, \"dd_cassi\": DD_CASSI, \"c_cassi\": C_CASSI}[\n    acquisition_name\n]\n\nacquisition_model = acquisition_model(**acquisition_config)\n\ny = acquisition_model(sample)\n\n# Reconstruct image\nfrom colibri.recovery.fista import Fista\nfrom colibri.recovery.terms.prior import Sparsity\nfrom colibri.recovery.terms.fidelity import L2\nfrom colibri.recovery.terms.transforms import DCT2D\n\n\nalgo_params = {\n    \"max_iters\": 2000,\n    \"alpha\": 1e-4,\n    \"_lambda\": 0.01,\n}\n\nfidelity = L2()\nprior = Sparsity(basis=\"dct\")\n\nfista = Fista(acquisition_model, fidelity, prior, **algo_params)\n\nx0 = acquisition_model.forward(y, type_calculation=\"backward\")\nx_hat = fista(y, x0=x0)\n\nbasis = DCT2D()\n\ntheta = basis.forward(x_hat).detach()\n\nnormalize = lambda x: (x - torch.min(x)) / (torch.max(x) - torch.min(x))\n\nplt.figure(figsize=(10, 10))\n\nplt.subplot(1, 4, 1)\nplt.title(\"Reference\")\nplt.imshow(sample[0, :, :].permute(1, 2, 0), cmap=\"gray\")\nplt.xticks([])\nplt.yticks([])\n\nplt.subplot(1, 4, 2)\nplt.title(\"Sparse Representation\")\nplt.imshow(abs(normalize(theta[0, :, :])).permute(1, 2, 0), cmap=\"gray\")\nplt.xticks([])\nplt.yticks([])\n\nif acquisition_name == \"spc\":\n    y = y.reshape(y.shape[0], -1, n_measurements_sqrt, n_measurements_sqrt)\n\nplt.subplot(1, 4, 3)\nplt.title(\"Measurement\")\nplt.imshow(normalize(y[0, :, :]).permute(1, 2, 0), cmap=\"gray\")\nplt.xticks([])\nplt.yticks([])\n\nplt.subplot(1, 4, 4)\nplt.title(\"Reconstruction\")\nplt.imshow(normalize(x_hat[0, :, :]).permute(1, 2, 0).detach().cpu().numpy(), cmap=\"gray\")\nplt.xticks([])\nplt.yticks([])\n\nplt.show()"
      ]
    }
  ],
  "metadata": {
    "kernelspec": {
      "display_name": "Python 3",
      "language": "python",
      "name": "python3"
    },
    "language_info": {
      "codemirror_mode": {
        "name": "ipython",
        "version": 3
      },
      "file_extension": ".py",
      "mimetype": "text/x-python",
      "name": "python",
      "nbconvert_exporter": "python",
      "pygments_lexer": "ipython3",
      "version": "3.9.22"
    }
  },
  "nbformat": 4,
  "nbformat_minor": 0
}